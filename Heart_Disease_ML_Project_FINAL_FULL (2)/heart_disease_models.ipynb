{
 "cells": [
  {
   "cell_type": "markdown",
   "id": "f76e1dc9",
   "metadata": {},
   "source": [
    "# Heart Disease ML Project\n",
    "This notebook includes all models used in the project."
   ]
  },
  {
   "cell_type": "code",
   "execution_count": null,
   "id": "56c49cb3",
   "metadata": {},
   "outputs": [],
   "source": [
    "# STEP 1: Load Data\n",
    "import pandas as pd\n",
    "from sklearn.model_selection import train_test_split\n",
    "from sklearn.preprocessing import StandardScaler\n",
    "\n",
    "df = pd.read_csv(\"original data/heart.csv\")\n",
    "X = df.drop(\"target\", axis=1)\n",
    "y = df[\"target\"]\n",
    "\n",
    "scaler = StandardScaler()\n",
    "X_scaled = scaler.fit_transform(X)\n",
    "\n",
    "X_train, X_test, y_train, y_test = train_test_split(X_scaled, y, test_size=0.2, random_state=42)\n"
   ]
  },
  {
   "cell_type": "code",
   "execution_count": null,
   "id": "d208a256",
   "metadata": {},
   "outputs": [],
   "source": [
    "# STEP 2: SVM\n",
    "from sklearn.svm import SVC\n",
    "svm_model = SVC(kernel='rbf', probability=True)\n",
    "svm_model.fit(X_train, y_train)\n",
    "y_pred_svm = svm_model.predict(X_test)\n"
   ]
  },
  {
   "cell_type": "code",
   "execution_count": null,
   "id": "c04f7640",
   "metadata": {},
   "outputs": [],
   "source": [
    "# STEP 3: Naive Bayes\n",
    "from sklearn.naive_bayes import GaussianNB\n",
    "nb_model = GaussianNB()\n",
    "nb_model.fit(X_train, y_train)\n",
    "y_pred_nb = nb_model.predict(X_test)\n"
   ]
  },
  {
   "cell_type": "code",
   "execution_count": null,
   "id": "22acfaad",
   "metadata": {},
   "outputs": [],
   "source": [
    "# STEP 4: KNN\n",
    "from sklearn.neighbors import KNeighborsClassifier\n",
    "knn_model = KNeighborsClassifier(n_neighbors=5)\n",
    "knn_model.fit(X_train, y_train)\n",
    "y_pred_knn = knn_model.predict(X_test)\n"
   ]
  },
  {
   "cell_type": "code",
   "execution_count": null,
   "id": "686c8bf8",
   "metadata": {},
   "outputs": [],
   "source": [
    "# STEP 5: Random Forest\n",
    "from sklearn.ensemble import RandomForestClassifier\n",
    "rf_model = RandomForestClassifier(n_estimators=100, random_state=42)\n",
    "rf_model.fit(X_train, y_train)\n",
    "y_pred_rf = rf_model.predict(X_test)\n"
   ]
  },
  {
   "cell_type": "code",
   "execution_count": null,
   "id": "5c5f9524",
   "metadata": {},
   "outputs": [],
   "source": [
    "# STEP 6: Decision Tree\n",
    "from sklearn.tree import DecisionTreeClassifier\n",
    "dt_model = DecisionTreeClassifier(random_state=42)\n",
    "dt_model.fit(X_train, y_train)\n",
    "y_pred_dt = dt_model.predict(X_test)\n"
   ]
  },
  {
   "cell_type": "code",
   "execution_count": null,
   "id": "5267d20b",
   "metadata": {},
   "outputs": [],
   "source": [
    "# STEP 7: Linear Regression\n",
    "from sklearn.linear_model import LinearRegression\n",
    "lr_model = LinearRegression()\n",
    "lr_model.fit(X_train, y_train)\n",
    "y_pred_lr = (lr_model.predict(X_test) > 0.5).astype(int)\n"
   ]
  },
  {
   "cell_type": "markdown",
   "id": "7f4cace5",
   "metadata": {},
   "source": [
    "## ANN (Artificial Neural Network)\n",
    "The ANN model was implemented using TensorFlow and trained on Google Colab due to environment limitations."
   ]
  },
  {
   "cell_type": "code",
   "execution_count": null,
   "id": "153f39ed",
   "metadata": {},
   "outputs": [],
   "source": [
    "# ANN - Run this on Google Colab\n",
    "# import tensorflow as tf\n",
    "# from tensorflow.keras.models import Sequential\n",
    "# from tensorflow.keras.layers import Dense\n",
    "\n",
    "# ann_model = Sequential()\n",
    "# ann_model.add(Dense(64, input_dim=13, activation='relu'))\n",
    "# ann_model.add(Dense(32, activation='relu'))\n",
    "# ann_model.add(Dense(1, activation='sigmoid'))\n",
    "\n",
    "# ann_model.compile(loss='binary_crossentropy', optimizer='adam', metrics=['accuracy'])\n",
    "# ann_model.fit(X_train, y_train, epochs=100, batch_size=8, verbose=1)\n",
    "# y_pred_ann = (ann_model.predict(X_test) > 0.5).astype(int)\n"
   ]
  }
 ],
 "metadata": {},
 "nbformat": 4,
 "nbformat_minor": 5
}
